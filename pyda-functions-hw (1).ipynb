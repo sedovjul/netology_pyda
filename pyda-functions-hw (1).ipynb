{
 "cells": [
  {
   "cell_type": "markdown",
   "metadata": {},
   "source": [
    "## Задание 1"
   ]
  },
  {
   "cell_type": "markdown",
   "metadata": {},
   "source": [
    "Дан список вида:"
   ]
  },
  {
   "cell_type": "code",
   "execution_count": 2,
   "metadata": {},
   "outputs": [],
   "source": [
    "data = [\n",
    "    [13, 25, 23, 34, 7],\n",
    "    [45, 32, 44, 47, 12],\n",
    "    [12, 33, 23, 95, 34],\n",
    "    [13, 53, 34, 35, 28],\n",
    "    [28, 3, 4, 11, 0]\n",
    "]"
   ]
  },
  {
   "cell_type": "markdown",
   "metadata": {},
   "source": [
    "Напишите функцию, которая возвращает сумму элементов на диагонали. Т. е. 13+32+23+35.  \n",
    "Список может быть любой длины, но всегда является \"квадратным\" (количество элементов во вложенных списках равно их количеству)."
   ]
  },
  {
   "cell_type": "code",
   "execution_count": 8,
   "metadata": {},
   "outputs": [
    {
     "data": {
      "text/plain": [
       "103"
      ]
     },
     "execution_count": 8,
     "metadata": {},
     "output_type": "execute_result"
    }
   ],
   "source": [
    "def diagonal_sum(data):\n",
    "    i = 0\n",
    "    result = 0\n",
    "    for i, num in enumerate(data):\n",
    "        result += num[i]\n",
    "    return result\n",
    "\n",
    "diagonal_sum(data)"
   ]
  },
  {
   "cell_type": "code",
   "execution_count": 45,
   "metadata": {},
   "outputs": [
    {
     "data": {
      "text/plain": [
       "103"
      ]
     },
     "execution_count": 45,
     "metadata": {},
     "output_type": "execute_result"
    }
   ],
   "source": [
    "# def diagonal_sum_old(data):\n",
    "# старый вариант\n",
    "#     i = 0\n",
    "#     result = 0\n",
    "#     while i < len(data):\n",
    "#         result += data[i][i]\n",
    "#         i += 1\n",
    "#     return result\n",
    "\n",
    "# diagonal_sum_old(data)\n"
   ]
  },
  {
   "cell_type": "markdown",
   "metadata": {},
   "source": [
    "## Задание 2"
   ]
  },
  {
   "cell_type": "markdown",
   "metadata": {},
   "source": [
    "Напишите функцию, возвращающую сумму первых n чисел Фибоначчи (для этого вам может понадобится ознакомиться с рекурсией)."
   ]
  },
  {
   "cell_type": "code",
   "execution_count": 18,
   "metadata": {},
   "outputs": [
    {
     "name": "stdout",
     "output_type": "stream",
     "text": [
      "Enter N = 10\n"
     ]
    },
    {
     "data": {
      "text/plain": [
       "55"
      ]
     },
     "execution_count": 18,
     "metadata": {},
     "output_type": "execute_result"
    }
   ],
   "source": [
    "N = int(input('Enter N = '))\n",
    "\n",
    "def f(n):\n",
    "    if n == 0:\n",
    "        return 0\n",
    "    elif n == 1:\n",
    "        return 1\n",
    "    else:\n",
    "        return f(n-1) + f(n-2)\n",
    "        \n",
    "f(N)\n"
   ]
  },
  {
   "cell_type": "code",
   "execution_count": 1,
   "metadata": {},
   "outputs": [],
   "source": [
    "?enumerate"
   ]
  },
  {
   "cell_type": "markdown",
   "metadata": {},
   "source": [
    "## Задание 3\n"
   ]
  },
  {
   "cell_type": "markdown",
   "metadata": {},
   "source": [
    "Напишите функцию, преобразующую произвольный список вида ['2018-01-01', 'yandex', 'cpc', 100] (он может быть любой длины) в словарь {'2018-01-01': {'yandex': {'cpc': 100}}}"
   ]
  },
  {
   "cell_type": "code",
   "execution_count": 37,
   "metadata": {},
   "outputs": [
    {
     "data": {
      "text/plain": [
       "{'2018-01-01': {'yandex': {'cpc': {100: {'new1': {'new2': 18}}}}}}"
      ]
     },
     "execution_count": 37,
     "metadata": {},
     "output_type": "execute_result"
    }
   ],
   "source": [
    "#l1 = [11]\n",
    "current_list = ['2018-01-01', 'yandex', 'cpc', 100, 'new1', 'new2', 18]\n",
    "\n",
    "\n",
    "def my_vocabulary(some_list):\n",
    "    temp = {}\n",
    "    \n",
    "    if len(some_list) == 2:\n",
    "        temp[some_list[0]]=some_list[1]\n",
    "        return temp\n",
    "    \n",
    "    elif len(some_list) == 1:\n",
    "        print('нельзя составить словарь из 1го элемента')\n",
    "        return None\n",
    "            \n",
    "    else:\n",
    "        first, *other = some_list\n",
    "        temp[first] = my_vocabulary(other)\n",
    "        return temp\n",
    "\n",
    "    \n",
    "    \n",
    "my_vocabulary(current_list)"
   ]
  },
  {
   "cell_type": "markdown",
   "metadata": {},
   "source": [
    "## Задание 4"
   ]
  },
  {
   "cell_type": "markdown",
   "metadata": {},
   "source": [
    "Вы работаете секретарем и вам постоянно приходят различные документы. Вы должны быть очень внимательны, чтобы не потерять ни один документ. Каталог документов хранится в следующем виде:"
   ]
  },
  {
   "cell_type": "code",
   "execution_count": 1,
   "metadata": {},
   "outputs": [],
   "source": [
    "# Каталог документов хранится в следующем виде:\n",
    "\n",
    "documents = [\n",
    "    {'type': 'passport', 'number': '2207 876234', 'name': 'Василий Гупкин'},\n",
    "    {'type': 'invoice', 'number': '11-2', 'name': 'Геннадий Покемонов'},\n",
    "    {'type': 'insurance', 'number': '10006', 'name': 'Аристарх Павлов'}\n",
    "]\n",
    "\n",
    "# Перечень полок, на которых находятся документы хранится в следующем виде:\n",
    "\n",
    "directories = {\n",
    "    '1': ['2207 876234', '11-2', '5455 028765'],\n",
    "    '2': ['10006', '5400 028765', '5455 002299'],\n",
    "    '3': []\n",
    "}"
   ]
  },
  {
   "cell_type": "markdown",
   "metadata": {},
   "source": [
    "Необходимо реализовать пользовательские команды (внимание! это не название функций, которые должны быть выразительными, а команды, которые вводит пользователь, чтобы получить необходимый результат):\n",
    "  \n",
    "- p – people – команда, которая спросит номер документа и выведет имя человека, которому он принадлежит;  \n",
    "- s – shelf – команда, которая спросит номер документа и выведет номер полки, на которой он находится  \n",
    "Правильно обработайте ситуацию, когда пользователь будет вводить несуществующий документ.\n",
    "- l – list – команда, которая выведет список всех документов в формате   \n",
    "**passport \"2207 876234\" \"Василий Гупкин\"**  \n",
    "- as – add shelf – команда, которая спросит номер новой полки и добавит ее в перечень\n",
    "- d – delete – команда, которая спросит номер документа и удалит его из каталога и из перечня полок. Предусмотрите сценарий, когда пользователь вводит несуществующий документ;  \n",
    "- m – move – команда, которая спросит номер документа и целевую полку и переместит его с текущей полки на целевую. Корректно обработайте кейсы, когда пользователь пытается переместить несуществующий документ или переместить документ на несуществующую полку;  \n",
    "- a – add – команда, которая добавит новый документ в каталог и в перечень полок, спросив его номер, тип, имя владельца и номер полки, на котором он будет храниться.\n"
   ]
  },
  {
   "cell_type": "code",
   "execution_count": 14,
   "metadata": {},
   "outputs": [],
   "source": [
    "def doc_in_documents(doc_num, documents):\n",
    "    \n",
    "    \"\"\"\n",
    "    doc_in_documents – проверяет, есть ли указанный номер документа в каталоге документов и \n",
    "    возвращает словарь из каталога документов, либо None\n",
    "        \n",
    "    \"\"\"\n",
    "    \n",
    "    for el in documents:\n",
    "        if doc_num == el['number']:\n",
    "            return el\n",
    "    \n",
    "    return False\n",
    "    \n",
    "def name_by_document():\n",
    "    \"\"\"\n",
    "    p – people – команда, которая спросит номер документа и выведет имя человека, которому он принадлежит\n",
    "    Если документа не найдено, выведет 'No such user'\n",
    "    Вызывет функцию name_by_document\n",
    "    \n",
    "    \"\"\"\n",
    "    \n",
    "    doc_num = input('Enter document № = ')\n",
    "    \n",
    "    if doc_in_documents(doc_num, documents) is not False:\n",
    "        print(doc_in_documents(doc_num, documents)['name'])\n",
    "        \n",
    "    else:\n",
    "        print('No such user')\n",
    "    \n",
    "    return None\n",
    "\n",
    "def doc_in_directories(doc_num, directories):\n",
    "    \n",
    "    \"\"\"\n",
    "    doc_in_directories – функция проверяет, есть ли указанный номер документа на одной из полок и выведет номер полки, \n",
    "    на которой он находится\n",
    "    \n",
    "    \"\"\"\n",
    "    \n",
    "    for el in list(directories.keys()):\n",
    "        \n",
    "        if doc_num in directories[el]:\n",
    "            return el\n",
    "        \n",
    "\n",
    "\n",
    "def documents_list():\n",
    "    \n",
    "    \"\"\"\n",
    "    l – list – команда, которая выведет список всех документов в формате passport \"2207 876234\" \"Василий Гупкин\"\n",
    "    Вызывает функцию documents_list\n",
    "    \n",
    "    \"\"\"\n",
    "    print('List of documents:')\n",
    "    for el in documents:\n",
    "        document = el['type'] + ' \"' + el['number'] + '\" ' + '\"' + el['name']+ '\"'\n",
    "        print(document)\n",
    "   \n",
    "   \n",
    "\n",
    "\n",
    "def shelf_by_document():\n",
    "    \n",
    "    \"\"\"\n",
    "    s – shelf – команда, которая спросит номер документа и выведет номер полки, на которой он находится\n",
    "    Вызывает функцию shelf_by_document\n",
    "    \n",
    "    \"\"\"\n",
    "    \n",
    "    doc_num = input('Enter document № = ')\n",
    "    if doc_in_directories(doc_num, directories) is not False:\n",
    "        print(f'Shelf № - {doc_in_directories(doc_num, directories)}')\n",
    "        \n",
    "    else:\n",
    "        print('Document is not found')\n",
    "    \n",
    "    return None\n",
    "\n",
    "\n",
    "def shelf_in_directories(shelf_num, directories):\n",
    "    if shelf_num in list(directories.keys()):\n",
    "        return shelf_num\n",
    "    return False\n",
    "\n",
    "\n",
    "\n",
    "def add_shelf():\n",
    "    \n",
    "    \"\"\"\n",
    "    as – add shelf – команда, которая спросит номер новой полки и добавит ее в перечень\n",
    "    вызывает функцию add_shelf \n",
    "    \n",
    "    \"\"\"\n",
    "    \n",
    "    shelf_num = input('Enter shelf № = ')\n",
    "    \n",
    "    if shelf_in_directories(shelf_num, directories):\n",
    "        print('Shelf with this number already exists')\n",
    "    \n",
    "    else:\n",
    "        directories[shelf_num] = []\n",
    "        print('Shelf was successfully added')\n",
    "   \n",
    "    return shelf_num\n",
    "\n",
    "\n",
    "def shelf_for_document():\n",
    "    \n",
    "    \"\"\"\n",
    "    shelf_for_document - спросит номер полки, если ее нет, добавит ее в перечень, вернет номер полки\n",
    "        \n",
    "    \"\"\"\n",
    "    \n",
    "    shelf_num = input('Enter shelf № = ')\n",
    "    \n",
    "    if shelf_in_directories(shelf_num, directories) is False:\n",
    "        directories[shelf_num] = []\n",
    "        \n",
    "    return shelf_num\n",
    "\n",
    "\n",
    "\n",
    "def delete_document():\n",
    "    \n",
    "    \"\"\"\n",
    "    d – delete – команда, которая спросит номер документа и удалит его из каталога и из перечня полок.\n",
    "    Предусмотрите сценарий, когда пользователь вводит несуществующий документ - также учитываются случаи, \n",
    "    когда документ есть только в каталоге документов или только в каталоге полок.\n",
    "    Вызывает функцию delete_document\n",
    "\n",
    "    \"\"\"\n",
    "    \n",
    "    doc_num = input('Enter document № = ')\n",
    "    temp_1 = doc_in_documents(doc_num, documents)\n",
    "    temp_2 = doc_in_directories(doc_num, directories)\n",
    "    \n",
    "    if temp_1 is not False:\n",
    "        documents.remove(temp_1)\n",
    "        print('Document was deleted from documents')\n",
    "    else:\n",
    "        print('No such document in documents')\n",
    "    \n",
    "    if temp_2 is not False:\n",
    "        directories[temp_2].remove(doc_num)\n",
    "        print('Document was deleted from directories')\n",
    "    else:\n",
    "        print('No such document in directories')\n",
    "        \n",
    "        \n",
    "\n",
    "def move_document():\n",
    "        \n",
    "    \"\"\"\n",
    "    m – move – команда, которая спросит номер документа и целевую полку и переместит его с текущей полки на целевую.\n",
    "    Корректно обработайте кейсы, когда пользователь пытается переместить несуществующий документ или переместить \n",
    "    документ на несуществующую полку\n",
    "    Вызывает функцию move_document\n",
    "\n",
    "    \"\"\"\n",
    "    \n",
    "    doc_num = input('Enter document № = ')\n",
    "    shelf_num = input('Enter destination shelf № = ')\n",
    "    \n",
    "    if shelf_num == doc_in_directories(doc_num, directories):\n",
    "        print('Current and destination shelf are equal')\n",
    "    \n",
    "    elif shelf_in_directories(shelf_num, directories):\n",
    "        if doc_in_directories(doc_num, directories):\n",
    "                   \n",
    "            directories[doc_in_directories(doc_num, directories)].remove(doc_num)\n",
    "            directories[shelf_num].append(doc_num)\n",
    "            print('Document was moved to shelf № ', shelf_num)\n",
    "        \n",
    "        else:\n",
    "            print('Doc does not exist')\n",
    "    else:\n",
    "        print('Shelf does not exist')\n",
    "        \n",
    "        \n",
    "\n",
    "def add_document():\n",
    "        \n",
    "    \"\"\"\n",
    "    a – add – команда, которая добавит новый документ в каталог и в перечень полок, \n",
    "    спросив его номер, тип, имя владельца и номер полки, на котором он будет храниться.\n",
    "    Вызывает функцию add_document\n",
    "\n",
    "    \"\"\"    \n",
    "\n",
    "    doc_num = input('Enter document № = ')\n",
    "\n",
    "    if doc_in_documents(doc_num, documents) == False:\n",
    "        dict = {}\n",
    "        dict['type'] = input('Enter document type = ')\n",
    "        dict['number'] = doc_num\n",
    "        dict['name'] = input('Enter name = ')\n",
    "        shelf = shelf_for_document()\n",
    "       \n",
    "        documents.append(dict)\n",
    "        directories[shelf].append(doc_num)\n",
    "        print('Document was added')\n",
    "    \n",
    "    else:\n",
    "        print('Document already exists')\n",
    "    "
   ]
  },
  {
   "cell_type": "code",
   "execution_count": 15,
   "metadata": {},
   "outputs": [],
   "source": [
    "# Основная функция: после запуска в режиме ожидания ждет пользовательский ввод, выходит из цикла при вводе команды \"е\""
   ]
  },
  {
   "cell_type": "code",
   "execution_count": 17,
   "metadata": {},
   "outputs": [
    {
     "name": "stdout",
     "output_type": "stream",
     "text": [
      "Enter command or type \"e\" to exit - t\n",
      "No such command - t\n",
      "Enter command or type \"e\" to exit - e\n",
      "Finish cycle\n"
     ]
    }
   ],
   "source": [
    "def main():\n",
    "    cmd = ''\n",
    "    while cmd != 'e':\n",
    "        cmd = input('Enter command or type \"e\" to exit - ')\n",
    "       \n",
    "        if cmd == 'p':\n",
    "            name_by_document()\n",
    "            \n",
    "        elif cmd == 's':\n",
    "            shelf_by_document()\n",
    "            \n",
    "        elif cmd == 'l':\n",
    "            documents_list()\n",
    "        \n",
    "        elif cmd == 'as':\n",
    "            add_shelf()\n",
    "            \n",
    "        elif cmd == 'd':\n",
    "            delete_document()\n",
    "        \n",
    "        elif cmd == 'm':\n",
    "            move_document()\n",
    "        \n",
    "        elif cmd == 'a':            \n",
    "            add_document()\n",
    "    \n",
    "        elif cmd == 'e':\n",
    "            print(f'Finish cycle')\n",
    "            \n",
    "        else:\n",
    "            print(f'No such command - {cmd}')\n",
    "        \n",
    "    return None\n",
    "\n",
    "main()"
   ]
  },
  {
   "cell_type": "code",
   "execution_count": null,
   "metadata": {},
   "outputs": [],
   "source": []
  }
 ],
 "metadata": {
  "kernelspec": {
   "display_name": "Python 3",
   "language": "python",
   "name": "python3"
  },
  "language_info": {
   "codemirror_mode": {
    "name": "ipython",
    "version": 3
   },
   "file_extension": ".py",
   "mimetype": "text/x-python",
   "name": "python",
   "nbconvert_exporter": "python",
   "pygments_lexer": "ipython3",
   "version": "3.7.4"
  }
 },
 "nbformat": 4,
 "nbformat_minor": 2
}
