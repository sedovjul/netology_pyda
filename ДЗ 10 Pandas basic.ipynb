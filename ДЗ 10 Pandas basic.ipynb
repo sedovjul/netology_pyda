{
 "cells": [
  {
   "cell_type": "code",
   "execution_count": 2,
   "metadata": {},
   "outputs": [],
   "source": [
    "import pandas as pd"
   ]
  },
  {
   "cell_type": "markdown",
   "metadata": {},
   "source": [
    "#### **Задание 1**\n",
    "Скачайте с сайта https://grouplens.org/datasets/movielens/ датасет любого размера. Определите какому фильму было выставлено больше всего оценок 5.0."
   ]
  },
  {
   "cell_type": "code",
   "execution_count": 3,
   "metadata": {},
   "outputs": [],
   "source": [
    "# Скачала отсюда https://grouplens.org/datasets/movielens/10m/\n",
    "\n",
    "with open('ratings.dat','r') as f:\n",
    "    df = pd.DataFrame(l.rstrip().split('::') for l in f)\n",
    "\n",
    "df.columns = ['UserID','MovieID','Rating','Timestamp']    \n",
    "df.head()"
   ]
  },
  {
   "cell_type": "code",
   "execution_count": 13,
   "metadata": {},
   "outputs": [
    {
     "data": {
      "text/plain": [
       "318    16460\n",
       "Name: MovieID, dtype: int64"
      ]
     },
     "execution_count": 13,
     "metadata": {},
     "output_type": "execute_result"
    }
   ],
   "source": [
    "# 1 способ\n",
    "# Выбираем все фильмы с рейтингом 5 и применяем метод value_counts() к столбцу MovieID\n",
    "\n",
    "df[df.Rating == '5']['MovieID'].value_counts().head(1)"
   ]
  },
  {
   "cell_type": "code",
   "execution_count": 17,
   "metadata": {},
   "outputs": [
    {
     "data": {
      "text/html": [
       "<div>\n",
       "<style scoped>\n",
       "    .dataframe tbody tr th:only-of-type {\n",
       "        vertical-align: middle;\n",
       "    }\n",
       "\n",
       "    .dataframe tbody tr th {\n",
       "        vertical-align: top;\n",
       "    }\n",
       "\n",
       "    .dataframe thead th {\n",
       "        text-align: right;\n",
       "    }\n",
       "</style>\n",
       "<table border=\"1\" class=\"dataframe\">\n",
       "  <thead>\n",
       "    <tr style=\"text-align: right;\">\n",
       "      <th></th>\n",
       "      <th>MovieID</th>\n",
       "      <th>Title</th>\n",
       "      <th>Genres</th>\n",
       "    </tr>\n",
       "  </thead>\n",
       "  <tbody>\n",
       "    <tr>\n",
       "      <td>315</td>\n",
       "      <td>318</td>\n",
       "      <td>Shawshank Redemption, The (1994)</td>\n",
       "      <td>Drama</td>\n",
       "    </tr>\n",
       "  </tbody>\n",
       "</table>\n",
       "</div>"
      ],
      "text/plain": [
       "    MovieID                             Title Genres\n",
       "315     318  Shawshank Redemption, The (1994)  Drama"
      ]
     },
     "execution_count": 17,
     "metadata": {},
     "output_type": "execute_result"
    }
   ],
   "source": [
    "with open('movies.dat','r') as f:\n",
    "    df_names = pd.DataFrame(l.rstrip().split('::') for l in f)\n",
    "df_names.columns = ['MovieID','Title','Genres'] \n",
    "\n",
    "df_names[df_names.MovieID == '318']\n",
    "# [df_names.Title for i in df_names.MovieID if i == '318']"
   ]
  },
  {
   "cell_type": "code",
   "execution_count": 63,
   "metadata": {},
   "outputs": [
    {
     "data": {
      "text/html": [
       "<div>\n",
       "<style scoped>\n",
       "    .dataframe tbody tr th:only-of-type {\n",
       "        vertical-align: middle;\n",
       "    }\n",
       "\n",
       "    .dataframe tbody tr th {\n",
       "        vertical-align: top;\n",
       "    }\n",
       "\n",
       "    .dataframe thead th {\n",
       "        text-align: right;\n",
       "    }\n",
       "</style>\n",
       "<table border=\"1\" class=\"dataframe\">\n",
       "  <thead>\n",
       "    <tr style=\"text-align: right;\">\n",
       "      <th></th>\n",
       "      <th>Rating</th>\n",
       "    </tr>\n",
       "    <tr>\n",
       "      <th>MovieID</th>\n",
       "      <th></th>\n",
       "    </tr>\n",
       "  </thead>\n",
       "  <tbody>\n",
       "    <tr>\n",
       "      <td>318</td>\n",
       "      <td>16460</td>\n",
       "    </tr>\n",
       "    <tr>\n",
       "      <td>296</td>\n",
       "      <td>14973</td>\n",
       "    </tr>\n",
       "    <tr>\n",
       "      <td>593</td>\n",
       "      <td>13054</td>\n",
       "    </tr>\n",
       "    <tr>\n",
       "      <td>527</td>\n",
       "      <td>12813</td>\n",
       "    </tr>\n",
       "    <tr>\n",
       "      <td>260</td>\n",
       "      <td>12519</td>\n",
       "    </tr>\n",
       "  </tbody>\n",
       "</table>\n",
       "</div>"
      ],
      "text/plain": [
       "         Rating\n",
       "MovieID        \n",
       "318       16460\n",
       "296       14973\n",
       "593       13054\n",
       "527       12813\n",
       "260       12519"
      ]
     },
     "execution_count": 63,
     "metadata": {},
     "output_type": "execute_result"
    }
   ],
   "source": [
    "# 2 способ (прповерка)\n",
    "# используем groupby() и count()\n",
    "\n",
    "# df1 = df[df.Rating == '5'][['MovieID', 'Rating']]\n",
    "df1.groupby('MovieID').count().sort_values(by='Rating', ascending=False).head()"
   ]
  },
  {
   "cell_type": "markdown",
   "metadata": {},
   "source": [
    "#### **Задание 2**\n",
    "По данным файла power.csv посчитайте суммарное потребление стран Прибалтики (Латвия, Литва и Эстония) категорий 4, 12 и 21 за период с 2005 по 2010 года. Не учитывайте в расчетах отрицательные значения quantity."
   ]
  },
  {
   "cell_type": "code",
   "execution_count": 18,
   "metadata": {},
   "outputs": [
    {
     "data": {
      "text/html": [
       "<div>\n",
       "<style scoped>\n",
       "    .dataframe tbody tr th:only-of-type {\n",
       "        vertical-align: middle;\n",
       "    }\n",
       "\n",
       "    .dataframe tbody tr th {\n",
       "        vertical-align: top;\n",
       "    }\n",
       "\n",
       "    .dataframe thead th {\n",
       "        text-align: right;\n",
       "    }\n",
       "</style>\n",
       "<table border=\"1\" class=\"dataframe\">\n",
       "  <thead>\n",
       "    <tr style=\"text-align: right;\">\n",
       "      <th></th>\n",
       "      <th>country</th>\n",
       "      <th>year</th>\n",
       "      <th>quantity</th>\n",
       "      <th>category</th>\n",
       "    </tr>\n",
       "  </thead>\n",
       "  <tbody>\n",
       "    <tr>\n",
       "      <td>0</td>\n",
       "      <td>Austria</td>\n",
       "      <td>1996</td>\n",
       "      <td>5.0</td>\n",
       "      <td>1</td>\n",
       "    </tr>\n",
       "    <tr>\n",
       "      <td>1</td>\n",
       "      <td>Austria</td>\n",
       "      <td>1995</td>\n",
       "      <td>17.0</td>\n",
       "      <td>1</td>\n",
       "    </tr>\n",
       "    <tr>\n",
       "      <td>2</td>\n",
       "      <td>Belgium</td>\n",
       "      <td>2014</td>\n",
       "      <td>0.0</td>\n",
       "      <td>1</td>\n",
       "    </tr>\n",
       "    <tr>\n",
       "      <td>3</td>\n",
       "      <td>Belgium</td>\n",
       "      <td>2013</td>\n",
       "      <td>0.0</td>\n",
       "      <td>1</td>\n",
       "    </tr>\n",
       "    <tr>\n",
       "      <td>4</td>\n",
       "      <td>Belgium</td>\n",
       "      <td>2012</td>\n",
       "      <td>35.0</td>\n",
       "      <td>1</td>\n",
       "    </tr>\n",
       "  </tbody>\n",
       "</table>\n",
       "</div>"
      ],
      "text/plain": [
       "   country  year  quantity  category\n",
       "0  Austria  1996       5.0         1\n",
       "1  Austria  1995      17.0         1\n",
       "2  Belgium  2014       0.0         1\n",
       "3  Belgium  2013       0.0         1\n",
       "4  Belgium  2012      35.0         1"
      ]
     },
     "execution_count": 18,
     "metadata": {},
     "output_type": "execute_result"
    }
   ],
   "source": [
    "# чтение файла в DF\n",
    "\n",
    "data = pd.read_csv('power.csv', encoding='utf-8')\n",
    "data.head()"
   ]
  },
  {
   "cell_type": "code",
   "execution_count": 9,
   "metadata": {},
   "outputs": [
    {
     "data": {
      "text/plain": [
       "array(['Lithuania'], dtype=object)"
      ]
     },
     "execution_count": 9,
     "metadata": {},
     "output_type": "execute_result"
    }
   ],
   "source": [
    "# ищем, как пишется название страны в DF\n",
    "\n",
    "data[ data['country'].str.contains('lit', case=False) ]['country'].unique()"
   ]
  },
  {
   "cell_type": "code",
   "execution_count": null,
   "metadata": {},
   "outputs": [],
   "source": []
  },
  {
   "cell_type": "code",
   "execution_count": 85,
   "metadata": {},
   "outputs": [
    {
     "data": {
      "text/plain": [
       "240580.0"
      ]
     },
     "execution_count": 85,
     "metadata": {},
     "output_type": "execute_result"
    }
   ],
   "source": [
    "# 1 вариант\n",
    "\n",
    "data[((data.country == 'Lithuania') | (data.country == 'Latvia') | (data.country == 'Estonia')) & \n",
    "     ((data.year <= 2010) & (data.year >= 2005)) & \n",
    "     ((data.category == 4) | (data.category == 12) | (data.category == 21)) &\n",
    "     (data.quantity > 0)].quantity.sum()\n",
    "\n"
   ]
  },
  {
   "cell_type": "code",
   "execution_count": 86,
   "metadata": {},
   "outputs": [
    {
     "data": {
      "text/plain": [
       "240481.0"
      ]
     },
     "execution_count": 86,
     "metadata": {},
     "output_type": "execute_result"
    }
   ],
   "source": [
    "# 2 вариант с проверкой isin() - получается другой ответ, \n",
    "# не могу понять, почему в этому случае попадает отрицательное значение (см.ниже выборку)\n",
    "\n",
    "country_list = ['Lithuania', 'Latvia', 'Estonia']\n",
    "category_list = ['4','12','21']\n",
    "year_list = ['2005','2006','2007','2008','2009','2010']\n",
    "# range(2005, 2011, 1)\n",
    "\n",
    "data[data['country'].isin(country_list) & \n",
    "     data['year'].isin(year_list) & \n",
    "     data['category'].isin(category_list) &\n",
    "     data['quantity'] > 0].quantity.sum()\n",
    "\n"
   ]
  },
  {
   "cell_type": "code",
   "execution_count": 88,
   "metadata": {},
   "outputs": [
    {
     "data": {
      "text/html": [
       "<div>\n",
       "<style scoped>\n",
       "    .dataframe tbody tr th:only-of-type {\n",
       "        vertical-align: middle;\n",
       "    }\n",
       "\n",
       "    .dataframe tbody tr th {\n",
       "        vertical-align: top;\n",
       "    }\n",
       "\n",
       "    .dataframe thead th {\n",
       "        text-align: right;\n",
       "    }\n",
       "</style>\n",
       "<table border=\"1\" class=\"dataframe\">\n",
       "  <thead>\n",
       "    <tr style=\"text-align: right;\">\n",
       "      <th></th>\n",
       "      <th>country</th>\n",
       "      <th>year</th>\n",
       "      <th>quantity</th>\n",
       "      <th>category</th>\n",
       "    </tr>\n",
       "  </thead>\n",
       "  <tbody>\n",
       "    <tr>\n",
       "      <td>103924</td>\n",
       "      <td>Lithuania</td>\n",
       "      <td>2007</td>\n",
       "      <td>90.0</td>\n",
       "      <td>12</td>\n",
       "    </tr>\n",
       "    <tr>\n",
       "      <td>104144</td>\n",
       "      <td>Lithuania</td>\n",
       "      <td>2007</td>\n",
       "      <td>1.0</td>\n",
       "      <td>12</td>\n",
       "    </tr>\n",
       "    <tr>\n",
       "      <td>104434</td>\n",
       "      <td>Lithuania</td>\n",
       "      <td>2007</td>\n",
       "      <td>2.0</td>\n",
       "      <td>12</td>\n",
       "    </tr>\n",
       "    <tr>\n",
       "      <td>104821</td>\n",
       "      <td>Lithuania</td>\n",
       "      <td>2007</td>\n",
       "      <td>74.0</td>\n",
       "      <td>12</td>\n",
       "    </tr>\n",
       "    <tr>\n",
       "      <td>105475</td>\n",
       "      <td>Lithuania</td>\n",
       "      <td>2007</td>\n",
       "      <td>1.0</td>\n",
       "      <td>12</td>\n",
       "    </tr>\n",
       "  </tbody>\n",
       "</table>\n",
       "</div>"
      ],
      "text/plain": [
       "          country  year  quantity  category\n",
       "103924  Lithuania  2007      90.0        12\n",
       "104144  Lithuania  2007       1.0        12\n",
       "104434  Lithuania  2007       2.0        12\n",
       "104821  Lithuania  2007      74.0        12\n",
       "105475  Lithuania  2007       1.0        12"
      ]
     },
     "execution_count": 88,
     "metadata": {},
     "output_type": "execute_result"
    }
   ],
   "source": [
    "data[((data.country == 'Lithuania') & \n",
    "     (data.year == 2007) & \n",
    "     (data.category == 12) &\n",
    "     (data.quantity > 0))].head()\n"
   ]
  },
  {
   "cell_type": "code",
   "execution_count": 90,
   "metadata": {},
   "outputs": [
    {
     "data": {
      "text/html": [
       "<div>\n",
       "<style scoped>\n",
       "    .dataframe tbody tr th:only-of-type {\n",
       "        vertical-align: middle;\n",
       "    }\n",
       "\n",
       "    .dataframe tbody tr th {\n",
       "        vertical-align: top;\n",
       "    }\n",
       "\n",
       "    .dataframe thead th {\n",
       "        text-align: right;\n",
       "    }\n",
       "</style>\n",
       "<table border=\"1\" class=\"dataframe\">\n",
       "  <thead>\n",
       "    <tr style=\"text-align: right;\">\n",
       "      <th></th>\n",
       "      <th>country</th>\n",
       "      <th>year</th>\n",
       "      <th>quantity</th>\n",
       "      <th>category</th>\n",
       "    </tr>\n",
       "  </thead>\n",
       "  <tbody>\n",
       "    <tr>\n",
       "      <td>102986</td>\n",
       "      <td>Lithuania</td>\n",
       "      <td>2007</td>\n",
       "      <td>-25.0</td>\n",
       "      <td>12</td>\n",
       "    </tr>\n",
       "    <tr>\n",
       "      <td>103924</td>\n",
       "      <td>Lithuania</td>\n",
       "      <td>2007</td>\n",
       "      <td>90.0</td>\n",
       "      <td>12</td>\n",
       "    </tr>\n",
       "    <tr>\n",
       "      <td>104144</td>\n",
       "      <td>Lithuania</td>\n",
       "      <td>2007</td>\n",
       "      <td>1.0</td>\n",
       "      <td>12</td>\n",
       "    </tr>\n",
       "    <tr>\n",
       "      <td>104434</td>\n",
       "      <td>Lithuania</td>\n",
       "      <td>2007</td>\n",
       "      <td>2.0</td>\n",
       "      <td>12</td>\n",
       "    </tr>\n",
       "    <tr>\n",
       "      <td>104821</td>\n",
       "      <td>Lithuania</td>\n",
       "      <td>2007</td>\n",
       "      <td>74.0</td>\n",
       "      <td>12</td>\n",
       "    </tr>\n",
       "  </tbody>\n",
       "</table>\n",
       "</div>"
      ],
      "text/plain": [
       "          country  year  quantity  category\n",
       "102986  Lithuania  2007     -25.0        12\n",
       "103924  Lithuania  2007      90.0        12\n",
       "104144  Lithuania  2007       1.0        12\n",
       "104434  Lithuania  2007       2.0        12\n",
       "104821  Lithuania  2007      74.0        12"
      ]
     },
     "execution_count": 90,
     "metadata": {},
     "output_type": "execute_result"
    }
   ],
   "source": [
    "data[data['country'].isin(['Lithuania']) & \n",
    "     data['year'].isin(['2007']) & \n",
    "     data['category'].isin(['12']) &\n",
    "     data['quantity'] > 0].head()"
   ]
  },
  {
   "cell_type": "markdown",
   "metadata": {},
   "source": [
    "#### **Задание 3**\n",
    "Выберите страницу любого сайта с табличными данными. Импортируйте таблицы в pandas dataframe.\n",
    "Примеры страниц (необязательно брать именно эти): \n",
    "https://fortrader.org/quotes\n",
    "https://www.finanz.ru/valyuty/v-realnom-vremeni"
   ]
  },
  {
   "cell_type": "code",
   "execution_count": 68,
   "metadata": {},
   "outputs": [
    {
     "data": {
      "text/plain": [
       "[     0       1     2        3      4     5        6      7      8        9   \\\n",
       " 0  ММВБ   3 098  0,9%   Nasdaq  9 468  2,1%  Биткойн  9 198   0,3%  USD/RUB   \n",
       " 1   РТС   1 547  1,7%   S&P500  3 298  1,5%    Нефть    546   1,5%  EUR/RUB   \n",
       " 2   Dow  28 808  1,4%  FTSE100  7 440  1,6%  EUR/USD  11036  -0,1%      NaN   \n",
       " \n",
       "          10    11  \n",
       " 0  630576.0  0,1%  \n",
       " 1  696130.0  0,0%  \n",
       " 2       NaN   NaN  ]"
      ]
     },
     "execution_count": 68,
     "metadata": {},
     "output_type": "execute_result"
    }
   ],
   "source": [
    "#на этом сайте нашла 2 таблицы\n",
    "\n",
    "pd.read_html('https://www.finanz.ru/valyuty/v-realnom-vremeni', attrs = {'class': 'header_user_pricebox'},encoding='utf-8')"
   ]
  },
  {
   "cell_type": "code",
   "execution_count": 67,
   "metadata": {},
   "outputs": [
    {
     "data": {
      "text/plain": [
       "[    Unnamed: 0              Рубль  Предложение  Спрос  Предыдущее закрытие  \\\n",
       " 0          NaN            GBP/RUB       817581      -               820798   \n",
       " 1          NaN            EUR/RUB       691954      -               695830   \n",
       " 2          NaN            USD/RUB       628660      -               629905   \n",
       " 3          NaN            JPY/RUB        05729      -                05755   \n",
       " 4          NaN            CNY/RUB        90149      -                90010   \n",
       " 5          NaN            CHF/RUB       646256      -               649813   \n",
       " 6          NaN               Евро  Предложение  Спрос  Предыдущее закрытие   \n",
       " 7          NaN            EUR/USD        11005      -                11044   \n",
       " 8          NaN            EUR/GBP        08462      -                08476   \n",
       " 9          NaN            EUR/JPY      1207600      -              1208800   \n",
       " 10         NaN            EUR/CHF        10708      -                10705   \n",
       " 11         NaN         Доллар США  Предложение  Спрос  Предыдущее закрытие   \n",
       " 12         NaN            USD/EUR        09086      -                09054   \n",
       " 13         NaN            USD/GBP        07689      -                07675   \n",
       " 14         NaN            USD/JPY      1097340      -              1094650   \n",
       " 15         NaN            USD/CHF        09729      -                09693   \n",
       " 16         NaN      Японская иена  Предложение  Спрос  Предыдущее закрытие   \n",
       " 17         NaN    JPY/EUR (100:1)        08300      -                08300   \n",
       " 18         NaN            JPY/GBP        00070      -                00070   \n",
       " 19         NaN            JPY/USD        00091      -                00091   \n",
       " 20         NaN    JPY/CHF (100:1)        08900      -                08900   \n",
       " 21         NaN    Фунт стерлингов  Предложение  Спрос  Предыдущее закрытие   \n",
       " 22         NaN            GBP/USD        13006      -                13031   \n",
       " 23         NaN            GBP/JPY      1426994      -              1426303   \n",
       " 24         NaN            GBP/EUR        11816      -                11799   \n",
       " 25         NaN            GBP/CHF        12653      -                12630   \n",
       " 26         NaN  Швейцарский франк  Предложение  Спрос  Предыдущее закрытие   \n",
       " 27         NaN            GBP/CHF        12653      -                12630   \n",
       " 28         NaN            EUR/CHF        10708      -                10705   \n",
       " 29         NaN    JPY/CHF (100:1)        08900      -                08900   \n",
       " 30         NaN            USD/CHF        09729      -                09693   \n",
       " 31         NaN  Украинская гривна  Предложение  Спрос  Предыдущее закрытие   \n",
       " 32         NaN            EUR/UAH       271535      -               274107   \n",
       " 33         NaN            USD/UAH       246726      -               248184   \n",
       " 34         NaN            CHF/UAH       253625      -               256019   \n",
       " 35         NaN            GBP/UAH       320843      -               323384   \n",
       " \n",
       "           %  Абсолютное значение     Время  \n",
       " 0   -0,39 %               -03217  20:23:00  \n",
       " 1   -0,56 %               -03876  20:23:00  \n",
       " 2   -0,20 %               -01245  20:23:00  \n",
       " 3   -0,44 %               -00025  20:23:00  \n",
       " 4    0,15 %                00139  20:23:00  \n",
       " 5   -0,55 %               -03557  20:23:00  \n",
       " 6         %  Абсолютное значение     Время  \n",
       " 7   -0,35 %               -00039  20:23:00  \n",
       " 8   -0,16 %               -00014  20:23:00  \n",
       " 9   -0,10 %               -01200  20:23:00  \n",
       " 10   0,03 %                00003  20:23:00  \n",
       " 11        %  Абсолютное значение     Время  \n",
       " 12   0,35 %                00032  20:23:00  \n",
       " 13   0,18 %                00014  20:23:00  \n",
       " 14   0,25 %                02690  20:23:00  \n",
       " 15   0,37 %                00036  20:23:00  \n",
       " 16        %  Абсолютное значение     Время  \n",
       " 17   0,10 %                00000  20:23:00  \n",
       " 18  -0,07 %                00000  20:23:00  \n",
       " 19  -0,25 %                00000  20:23:00  \n",
       " 20   0,12 %                00000  20:23:00  \n",
       " 21        %  Абсолютное значение     Время  \n",
       " 22  -0,19 %               -00025  20:23:00  \n",
       " 23   0,05 %                00691  20:23:00  \n",
       " 24   0,14 %                00017  20:23:00  \n",
       " 25   0,18 %                00023  20:23:00  \n",
       " 26        %  Абсолютное значение     Время  \n",
       " 27   0,18 %                00023  20:23:00  \n",
       " 28   0,03 %                00003  20:23:00  \n",
       " 29   0,12 %                00000  20:23:00  \n",
       " 30   0,37 %                00036  20:23:00  \n",
       " 31        %  Абсолютное значение     Время  \n",
       " 32  -0,94 %               -02573  20:23:00  \n",
       " 33  -0,59 %               -01458  20:21:00  \n",
       " 34  -0,93 %               -02394  20:23:00  \n",
       " 35  -0,79 %               -02541  20:23:00  ]"
      ]
     },
     "execution_count": 67,
     "metadata": {},
     "output_type": "execute_result"
    }
   ],
   "source": [
    "pd.read_html('https://www.finanz.ru/valyuty/v-realnom-vremeni', attrs = {'class': 'quote_list'},encoding='utf-8')"
   ]
  },
  {
   "cell_type": "code",
   "execution_count": null,
   "metadata": {},
   "outputs": [],
   "source": []
  }
 ],
 "metadata": {
  "kernelspec": {
   "display_name": "Python 3",
   "language": "python",
   "name": "python3"
  },
  "language_info": {
   "codemirror_mode": {
    "name": "ipython",
    "version": 3
   },
   "file_extension": ".py",
   "mimetype": "text/x-python",
   "name": "python",
   "nbconvert_exporter": "python",
   "pygments_lexer": "ipython3",
   "version": "3.7.4"
  }
 },
 "nbformat": 4,
 "nbformat_minor": 2
}
