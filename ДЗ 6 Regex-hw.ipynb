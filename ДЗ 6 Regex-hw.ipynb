{
 "cells": [
  {
   "cell_type": "markdown",
   "metadata": {},
   "source": [
    "# Домашнее задание к лекции \"Регулярные выражения\"\n",
    "Для зачета необходимо выполнить 4 задания.  \n",
    "Для зачета с отличием – все."
   ]
  },
  {
   "cell_type": "code",
   "execution_count": 2,
   "metadata": {},
   "outputs": [],
   "source": [
    "import re"
   ]
  },
  {
   "cell_type": "markdown",
   "metadata": {},
   "source": [
    "## Задание 1"
   ]
  },
  {
   "cell_type": "markdown",
   "metadata": {},
   "source": [
    "\n",
    "Напишите функцию, которая принимает на вход строку и проверяет является ли она валидным транспортным номером. Если да, то функция должна возвращать отдельно номер и регион."
   ]
  },
  {
   "cell_type": "code",
   "execution_count": 45,
   "metadata": {},
   "outputs": [
    {
     "name": "stdout",
     "output_type": "stream",
     "text": [
      "Enter number - В155РР158\n",
      "The number В155РР158 is valid\n",
      "Region - 158\n",
      "Number - В155РР\n"
     ]
    }
   ],
   "source": [
    "# А, В, Е, К, М, Н, О, Р, С, Т, У и Х\n",
    "\n",
    "def auto_number():\n",
    "    input_number = input('Enter number - ')\n",
    "    \n",
    "    regex_whole_number = r'[А,В,Е,К,М,Н,О,Р,С,Т,У,Х]{1}\\d{3}[А,В,Е,К,М,Н,О,Р,С,Т,У,Х]{2}\\d{2,3}'\n",
    "    regex_region = r'(\\d{2,3}$)'\n",
    "    regex_number = r'[А,В,Е,К,М,Н,О,Р,С,Т,У,Х]{1}\\d{3}[А,В,Е,К,М,Н,О,Р,С,Т,У,Х]{2}'\n",
    "\n",
    "    if re.match(regex_whole_number, input_number):\n",
    "        print(f'The number {input_number} is valid')\n",
    "        print(f'Region - {re.findall(regex_region,input_number)[0]}')\n",
    "        print(f'Number - {re.findall(regex_number,input_number)[0]}')\n",
    "        \n",
    "    else:\n",
    "        print(f'The number {input_number} is invalid') \n",
    "\n",
    "auto_number()        "
   ]
  },
  {
   "cell_type": "code",
   "execution_count": 26,
   "metadata": {},
   "outputs": [
    {
     "data": {
      "text/plain": [
       "['155']"
      ]
     },
     "execution_count": 26,
     "metadata": {},
     "output_type": "execute_result"
    }
   ],
   "source": [
    "# input_number = 'В155РР158'\n",
    "regex_group = r'\\d{3}(?=[А,В,Е,К,М,Н,О,Р,С,Т,У,Х]+)'\n",
    "re.findall(regex_group,input_number)"
   ]
  },
  {
   "cell_type": "markdown",
   "metadata": {},
   "source": [
    "## Задание 2"
   ]
  },
  {
   "cell_type": "markdown",
   "metadata": {},
   "source": [
    "Напишите функцию, которая проверяет e-mail адрес на валидность по стандарту RFC822: http://www.w3.org/Protocols/rfc822/. Для этого постарайтесь написать (в крайнем случае найти) самый полный шаблон для проверки e-mail адресов через регулярное выражение. Разберитесь и напишите примеры, какие ваш шаблон может не охватить."
   ]
  },
  {
   "cell_type": "code",
   "execution_count": 8,
   "metadata": {},
   "outputs": [
    {
     "name": "stdout",
     "output_type": "stream",
     "text": [
      "None\n"
     ]
    }
   ],
   "source": [
    "# http://www.ex-parrot.com/~pdw/Mail-RFC822-Address.html - адская регулярка\n",
    "# нашла регулярку попроще\n",
    "\n",
    "string = 'jis@rambler@.ru'\n",
    "regex_email = r'(?:[a-z0-9!#$%&*+/=?^_`{|}~-]+(?:\\.[a-z0-9!#$%&*+/=?^_`{|}~-]+)*|\"(?:[\\x01-\\x08\\x0b\\x0c\\x0e-\\x1f\\x21\\x23-\\x5b\\x5d-\\x7f]|\\\\[\\x01-\\x09\\x0b\\x0c\\x0e-\\x7f])*\")@(?:(?:[a-z0-9](?:[a-z0-9-]*[a-z0-9])?\\.)+[a-z0-9](?:[a-z0-9-]*[a-z0-9])?|\\[(?:(?:25[0-5]|2[0-4][0-9]|[01]?[0-9][0-9]?)\\.){3}(?:25[0-5]|2[0-4][0-9]|[01]?[0-9][0-9]?|[a-z0-9-]*[a-z0-9]:(?:[\\x01-\\x08\\x0b\\x0c\\x0e-\\x1f\\x21-\\x5a\\x53-\\x7f]|\\\\[\\x01-\\x09\\x0b\\x0c\\x0e-\\x7f])+)\\])'\n",
    "\n",
    "print(re.match(regex_email, string))"
   ]
  },
  {
   "cell_type": "markdown",
   "metadata": {},
   "source": [
    "## Задание 3\n",
    "Напишите функцию, которая будет удалять все последовательные повторы слов из заданной строки."
   ]
  },
  {
   "cell_type": "code",
   "execution_count": 13,
   "metadata": {},
   "outputs": [
    {
     "name": "stdout",
     "output_type": "stream",
     "text": [
      "Как как Удалить удАлить удалиТь повторяющиеся Слова слОва??\n",
      "[('Как', 'как'), ('Удалить', 'удАлить'), ('Слова', 'слОва')]\n",
      "Как Удалить повторяющиеся Слова??\n"
     ]
    }
   ],
   "source": [
    "# мой вариант\n",
    "\n",
    "def delete_repeats(input_string):\n",
    "    \n",
    "    new_string = re.sub(r'\\s+',' ', input_string)\n",
    "\n",
    "    regex_pattern = r'(\\w+)\\s*(\\1)+\\s*'\n",
    "    print(new_string)\n",
    "    print(re.findall(regex_pattern, new_string, flags=re.I))\n",
    "     \n",
    "    print(re.sub(r'(\\w+)(\\s+\\1)+', r'\\1', new_string, flags=re.I))\n",
    "    \n",
    "input_string = 'Как как Удалить удАлить удалиТь      повторяющиеся Слова слОва??'\n",
    "delete_repeats(input_string)"
   ]
  },
  {
   "cell_type": "code",
   "execution_count": 9,
   "metadata": {},
   "outputs": [
    {
     "data": {
      "text/plain": [
       "'как Удалить повторяющиеся Слова??'"
      ]
     },
     "execution_count": 9,
     "metadata": {},
     "output_type": "execute_result"
    }
   ],
   "source": [
    "# вариант из разбор\n",
    "\n",
    "def remove_repeats(string):\n",
    "    string = re.sub(r'\\s+',' ', string)\n",
    "    return re.sub(r'(\\w+)(\\s\\1)+', r'\\1', string, flags=re.I)\n",
    "\n",
    "remove_repeats('как как Удалить удАлить удалиТь      повторяющиеся Слова слОва??')"
   ]
  },
  {
   "cell_type": "markdown",
   "metadata": {},
   "source": [
    "## Задание 4\n",
    "Напишите функцию, которая будет проверять номер сотового телефона на валидность, если он валиден, то переводить его в формат:   \n",
    "+7(xxx)-xxx-xx-xx  \n",
    "Постарайтесь предусмотреть как можно больше адекватных форматов изначального ввода номера.\n",
    "Примеры правильных и неправильных форматов:\n",
    "- +7 955 555-55-55;\n",
    "- 955555555;\n",
    "- 8(955)555-55-55;\n",
    "- +7 955 555 55 55;\n",
    "- 7(955) 555-55-55;\n",
    "- +7 955+555+55+55."
   ]
  },
  {
   "cell_type": "code",
   "execution_count": 3,
   "metadata": {},
   "outputs": [
    {
     "name": "stdout",
     "output_type": "stream",
     "text": [
      "Enter mobile phone - 89256644466\n",
      "+7(925)-664-44-66\n"
     ]
    }
   ],
   "source": [
    "# при написании regex_pattern предполагала, что международный код (7, +7, 8) можно опустить. \n",
    "# Т.е. если пользователь его не ввел, но остальные условие верны, номер валидный\n",
    "\n",
    "def mobile_number_validation():\n",
    "    input_number = input('Enter mobile phone - ')\n",
    "    regex_pattern = r'[7|8|+7]*[-(\\s]*(\\d{3})[-)\\s]*(\\d{3})[-\\s]?(\\d{2})[-\\s]?(\\d{2})'\n",
    "    if re.match(regex_pattern,input_number):\n",
    "        print(re.sub(regex_pattern, r'+7(\\1)-\\2-\\3-\\4', input_number))\n",
    "    else:\n",
    "        print('The number is incorrect')\n",
    "\n",
    "\n",
    "mobile_number_validation()"
   ]
  },
  {
   "cell_type": "code",
   "execution_count": null,
   "metadata": {},
   "outputs": [],
   "source": []
  },
  {
   "cell_type": "code",
   "execution_count": null,
   "metadata": {},
   "outputs": [],
   "source": []
  }
 ],
 "metadata": {
  "kernelspec": {
   "display_name": "Python 3",
   "language": "python",
   "name": "python3"
  },
  "language_info": {
   "codemirror_mode": {
    "name": "ipython",
    "version": 3
   },
   "file_extension": ".py",
   "mimetype": "text/x-python",
   "name": "python",
   "nbconvert_exporter": "python",
   "pygments_lexer": "ipython3",
   "version": "3.7.4"
  }
 },
 "nbformat": 4,
 "nbformat_minor": 2
}
